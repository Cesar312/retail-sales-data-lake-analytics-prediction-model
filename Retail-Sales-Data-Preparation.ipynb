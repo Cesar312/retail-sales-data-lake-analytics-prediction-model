{
 "cells": [
  {
   "cell_type": "markdown",
   "metadata": {
    "application/vnd.databricks.v1+cell": {
     "cellMetadata": {
      "byteLimit": 2048000,
      "rowLimit": 10000
     },
     "inputWidgets": {},
     "nuid": "2eed45f0-5c8d-4e7d-a1eb-c4e7cdf10a9f",
     "showTitle": false,
     "tableResultSettingsMap": {},
     "title": ""
    }
   },
   "source": [
    "# Sales Data Preparation"
   ]
  },
  {
   "cell_type": "markdown",
   "metadata": {
    "application/vnd.databricks.v1+cell": {
     "cellMetadata": {
      "byteLimit": 2048000,
      "rowLimit": 10000
     },
     "inputWidgets": {},
     "nuid": "73bb9b0f-11ba-49d5-b3b8-a4c281414818",
     "showTitle": false,
     "tableResultSettingsMap": {},
     "title": ""
    }
   },
   "source": [
    "Remove underlying files stored during the initial development. This will ensure a fresh start."
   ]
  },
  {
   "cell_type": "code",
   "execution_count": 0,
   "metadata": {
    "application/vnd.databricks.v1+cell": {
     "cellMetadata": {
      "byteLimit": 2048000,
      "rowLimit": 10000
     },
     "inputWidgets": {},
     "nuid": "de456be2-66d5-4dd4-ac52-d9d94af2d653",
     "showTitle": false,
     "tableResultSettingsMap": {},
     "title": ""
    }
   },
   "outputs": [
    {
     "output_type": "stream",
     "name": "stdout",
     "output_type": "stream",
     "text": [
      "Out[1]: True"
     ]
    }
   ],
   "source": [
    "dbutils.fs.rm(\"dbfs:/FileStore/salesdata/published\", recurse=True)\n"
   ]
  },
  {
   "cell_type": "markdown",
   "metadata": {
    "application/vnd.databricks.v1+cell": {
     "cellMetadata": {
      "byteLimit": 2048000,
      "rowLimit": 10000
     },
     "inputWidgets": {},
     "nuid": "cad898bf-5c78-4224-b829-bcc13bec1c4e",
     "showTitle": false,
     "tableResultSettingsMap": {},
     "title": ""
    }
   },
   "source": [
    "## Initiate Spark Session"
   ]
  },
  {
   "cell_type": "code",
   "execution_count": 0,
   "metadata": {
    "application/vnd.databricks.v1+cell": {
     "cellMetadata": {
      "byteLimit": 2048000,
      "rowLimit": 10000
     },
     "inputWidgets": {},
     "nuid": "fade813f-90fe-4c70-82b3-750f34f756d9",
     "showTitle": false,
     "tableResultSettingsMap": {},
     "title": ""
    }
   },
   "outputs": [],
   "source": [
    "from pyspark.sql import SparkSession\n",
    "from pyspark.sql.types import StructType, StructField, StringType"
   ]
  },
  {
   "cell_type": "code",
   "execution_count": 0,
   "metadata": {
    "application/vnd.databricks.v1+cell": {
     "cellMetadata": {
      "byteLimit": 2048000,
      "rowLimit": 10000
     },
     "inputWidgets": {},
     "nuid": "6c953b61-0920-4272-93a0-d871fe27c90e",
     "showTitle": false,
     "tableResultSettingsMap": {},
     "title": ""
    }
   },
   "outputs": [],
   "source": [
    "spark = SparkSession.builder.appName(\"SalesDataPrep\").getOrCreate()"
   ]
  },
  {
   "cell_type": "markdown",
   "metadata": {
    "application/vnd.databricks.v1+cell": {
     "cellMetadata": {
      "byteLimit": 2048000,
      "rowLimit": 10000
     },
     "inputWidgets": {},
     "nuid": "a0a61062-4f80-459f-a72f-80fecf9a8d75",
     "showTitle": false,
     "tableResultSettingsMap": {},
     "title": ""
    }
   },
   "source": [
    "## Import Data Set into DataFrame"
   ]
  },
  {
   "cell_type": "code",
   "execution_count": 0,
   "metadata": {
    "application/vnd.databricks.v1+cell": {
     "cellMetadata": {
      "byteLimit": 2048000,
      "rowLimit": 10000
     },
     "inputWidgets": {},
     "nuid": "9f1f73d9-1ce4-4df4-bb8f-a83ec67123cb",
     "showTitle": false,
     "tableResultSettingsMap": {},
     "title": ""
    }
   },
   "outputs": [],
   "source": [
    "schema = StructType([\n",
    "    StructField(\"Order ID\", StringType(), True), \n",
    "    StructField(\"Product\", StringType(), True), \n",
    "    StructField(\"Quantity Ordered\", StringType(), True), \n",
    "    StructField(\"Price Each\", StringType(), True), \n",
    "    StructField(\"Order Date\", StringType(), True), \n",
    "    StructField(\"Purchase Address\", StringType(), True)\n",
    "])"
   ]
  },
  {
   "cell_type": "code",
   "execution_count": 0,
   "metadata": {
    "application/vnd.databricks.v1+cell": {
     "cellMetadata": {
      "byteLimit": 2048000,
      "rowLimit": 10000
     },
     "inputWidgets": {},
     "nuid": "f309fceb-3978-425f-a8dc-b4caa336470b",
     "showTitle": false,
     "tableResultSettingsMap": {},
     "title": ""
    }
   },
   "outputs": [],
   "source": [
    "data_fpath = \"dbfs:/FileStore/shared_uploads/sales/input\"\n",
    "\n",
    "sales_data_df = (spark.read.format(\"csv\")\n",
    "                 .option(\"header\", True)\n",
    "                 .schema(schema)\n",
    "                 .load(data_fpath))"
   ]
  },
  {
   "cell_type": "code",
   "execution_count": 0,
   "metadata": {
    "application/vnd.databricks.v1+cell": {
     "cellMetadata": {
      "byteLimit": 2048000,
      "rowLimit": 10000
     },
     "inputWidgets": {},
     "nuid": "37dadd82-965a-4f16-97f6-a3ac8df6a6e3",
     "showTitle": false,
     "tableResultSettingsMap": {},
     "title": ""
    }
   },
   "outputs": [
    {
     "output_type": "stream",
     "name": "stdout",
     "output_type": "stream",
     "text": [
      "+--------+--------------------+----------------+----------+--------------+--------------------+\n|Order ID|             Product|Quantity Ordered|Price Each|    Order Date|    Purchase Address|\n+--------+--------------------+----------------+----------+--------------+--------------------+\n|  295665|  Macbook Pro Laptop|               1|      1700|12/30/19 00:01|136 Church St, Ne...|\n|  295666|  LG Washing Machine|               1|     600.0|12/29/19 07:03|562 2nd St, New Y...|\n|  295667|USB-C Charging Cable|               1|     11.95|12/12/19 18:21|277 Main St, New ...|\n|  295668|    27in FHD Monitor|               1|    149.99|12/22/19 15:13|410 6th St, San F...|\n|  295669|USB-C Charging Cable|               1|     11.95|12/18/19 12:38|43 Hill St, Atlan...|\n|  295670|AA Batteries (4-p...|               1|      3.84|12/31/19 22:58|200 Jefferson St,...|\n|  295671|USB-C Charging Cable|               1|     11.95|12/16/19 15:10|928 12th St, Port...|\n|  295672|USB-C Charging Cable|               2|     11.95|12/13/19 09:29|813 Hickory St, D...|\n|  295673|Bose SoundSport H...|               1|     99.99|12/15/19 23:26|718 Wilson St, Da...|\n|  295674|AAA Batteries (4-...|               4|      2.99|12/28/19 11:51|77 7th St, Dallas...|\n+--------+--------------------+----------------+----------+--------------+--------------------+\nonly showing top 10 rows\n\n"
     ]
    }
   ],
   "source": [
    "sales_data_df.show(10)"
   ]
  },
  {
   "cell_type": "code",
   "execution_count": 0,
   "metadata": {
    "application/vnd.databricks.v1+cell": {
     "cellMetadata": {
      "byteLimit": 2048000,
      "rowLimit": 10000
     },
     "inputWidgets": {},
     "nuid": "41641186-2db8-485b-ad17-5ed9381a1373",
     "showTitle": false,
     "tableResultSettingsMap": {},
     "title": ""
    }
   },
   "outputs": [
    {
     "output_type": "stream",
     "name": "stdout",
     "output_type": "stream",
     "text": [
      "root\n |-- Order ID: string (nullable = true)\n |-- Product: string (nullable = true)\n |-- Quantity Ordered: string (nullable = true)\n |-- Price Each: string (nullable = true)\n |-- Order Date: string (nullable = true)\n |-- Purchase Address: string (nullable = true)\n\n"
     ]
    }
   ],
   "source": [
    "sales_data_df.printSchema()"
   ]
  },
  {
   "cell_type": "markdown",
   "metadata": {
    "application/vnd.databricks.v1+cell": {
     "cellMetadata": {
      "byteLimit": 2048000,
      "rowLimit": 10000
     },
     "inputWidgets": {},
     "nuid": "04f9881a-3aa4-40a8-9960-a162dca361bb",
     "showTitle": false,
     "tableResultSettingsMap": {},
     "title": ""
    }
   },
   "source": [
    "## Clean Up the Underlying Directory"
   ]
  },
  {
   "cell_type": "markdown",
   "metadata": {
    "application/vnd.databricks.v1+cell": {
     "cellMetadata": {
      "byteLimit": 2048000,
      "rowLimit": 10000
     },
     "inputWidgets": {},
     "nuid": "3fcedeb5-5d51-4b8c-95f7-48d13d0d970a",
     "showTitle": false,
     "tableResultSettingsMap": {},
     "title": ""
    }
   },
   "source": [
    "To keep the table name but want to clear the old data, delete the contents of the directory at\n",
    "`dbfs:/user/hive.warehouse/sales_db.db/sales_raw` with Databricks File System commands so the folder is empty before creating the table."
   ]
  },
  {
   "cell_type": "code",
   "execution_count": 0,
   "metadata": {
    "application/vnd.databricks.v1+cell": {
     "cellMetadata": {
      "byteLimit": 2048000,
      "rowLimit": 10000
     },
     "inputWidgets": {},
     "nuid": "ccd1b2ee-87a8-4cd4-86ca-226b31364345",
     "showTitle": false,
     "tableResultSettingsMap": {},
     "title": ""
    }
   },
   "outputs": [
    {
     "output_type": "stream",
     "name": "stdout",
     "output_type": "stream",
     "text": [
      "Out[8]: [FileInfo(path='dbfs:/user/hive/warehouse/sales_db.db/sales_raw/_delta_log/', name='_delta_log/', size=0, modificationTime=0),\n FileInfo(path='dbfs:/user/hive/warehouse/sales_db.db/sales_raw/part-00000-59e51fe1-808e-45a9-8f52-2d68e9bff2af-c000.snappy.parquet', name='part-00000-59e51fe1-808e-45a9-8f52-2d68e9bff2af-c000.snappy.parquet', size=1046001, modificationTime=1741818759000),\n FileInfo(path='dbfs:/user/hive/warehouse/sales_db.db/sales_raw/part-00001-d28bb312-0411-4f03-9bce-045660a557cb-c000.snappy.parquet', name='part-00001-d28bb312-0411-4f03-9bce-045660a557cb-c000.snappy.parquet', size=841317, modificationTime=1741818759000),\n FileInfo(path='dbfs:/user/hive/warehouse/sales_db.db/sales_raw/part-00002-1b750e73-fa71-46cd-940b-7fa2457b2da7-c000.snappy.parquet', name='part-00002-1b750e73-fa71-46cd-940b-7fa2457b2da7-c000.snappy.parquet', size=752974, modificationTime=1741818758000),\n FileInfo(path='dbfs:/user/hive/warehouse/sales_db.db/sales_raw/part-00003-dc446da5-a860-4272-a094-dc61d7295203-c000.snappy.parquet', name='part-00003-dc446da5-a860-4272-a094-dc61d7295203-c000.snappy.parquet', size=675660, modificationTime=1741818758000),\n FileInfo(path='dbfs:/user/hive/warehouse/sales_db.db/sales_raw/part-00004-8bf43d29-a851-4d11-ab09-a7cf8a4a56c3-c000.snappy.parquet', name='part-00004-8bf43d29-a851-4d11-ab09-a7cf8a4a56c3-c000.snappy.parquet', size=587344, modificationTime=1741818758000),\n FileInfo(path='dbfs:/user/hive/warehouse/sales_db.db/sales_raw/part-00005-cae4867c-0b96-4c4b-b978-b963dce51663-c000.snappy.parquet', name='part-00005-cae4867c-0b96-4c4b-b978-b963dce51663-c000.snappy.parquet', size=526812, modificationTime=1741818758000)]"
     ]
    }
   ],
   "source": [
    "# List the files to check contents\n",
    "dbutils.fs.ls(\"dbfs:/user/hive/warehouse/sales_db.db/sales_raw\")\n"
   ]
  },
  {
   "cell_type": "code",
   "execution_count": 0,
   "metadata": {
    "application/vnd.databricks.v1+cell": {
     "cellMetadata": {
      "byteLimit": 2048000,
      "rowLimit": 10000
     },
     "inputWidgets": {},
     "nuid": "3ea590ea-9df3-4c8c-861f-63b42edfa55c",
     "showTitle": false,
     "tableResultSettingsMap": {},
     "title": ""
    }
   },
   "outputs": [
    {
     "output_type": "stream",
     "name": "stdout",
     "output_type": "stream",
     "text": [
      "Out[9]: True"
     ]
    }
   ],
   "source": [
    "# Remove the directory recursively\n",
    "dbutils.fs.rm(\"dbfs:/user/hive/warehouse/sales_db.db/sales_raw\", recurse=True)\n"
   ]
  },
  {
   "cell_type": "markdown",
   "metadata": {
    "application/vnd.databricks.v1+cell": {
     "cellMetadata": {
      "byteLimit": 2048000,
      "rowLimit": 10000
     },
     "inputWidgets": {},
     "nuid": "9263c108-0569-4698-87b7-f7fe7c534c4a",
     "showTitle": false,
     "tableResultSettingsMap": {},
     "title": ""
    }
   },
   "source": [
    "## Create Database and Table (`sales_raw`)"
   ]
  },
  {
   "cell_type": "code",
   "execution_count": 0,
   "metadata": {
    "application/vnd.databricks.v1+cell": {
     "cellMetadata": {
      "byteLimit": 2048000,
      "rowLimit": 10000
     },
     "inputWidgets": {},
     "nuid": "c1dd6c0e-fa5e-49f1-8071-53c13a7386f3",
     "showTitle": false,
     "tableResultSettingsMap": {},
     "title": ""
    }
   },
   "outputs": [
    {
     "output_type": "stream",
     "name": "stdout",
     "output_type": "stream",
     "text": [
      "Out[10]: DataFrame[]"
     ]
    }
   ],
   "source": [
    "spark.sql(\"CREATE DATABASE IF NOT EXISTS sales_db\")"
   ]
  },
  {
   "cell_type": "code",
   "execution_count": 0,
   "metadata": {
    "application/vnd.databricks.v1+cell": {
     "cellMetadata": {
      "byteLimit": 2048000,
      "rowLimit": 10000
     },
     "inputWidgets": {},
     "nuid": "38ea6725-c162-435b-9f94-39e153ff11c1",
     "showTitle": false,
     "tableResultSettingsMap": {},
     "title": ""
    }
   },
   "outputs": [
    {
     "output_type": "stream",
     "name": "stdout",
     "output_type": "stream",
     "text": [
      "Out[11]: DataFrame[]"
     ]
    }
   ],
   "source": [
    "spark.sql(\"USE sales_db\")"
   ]
  },
  {
   "cell_type": "code",
   "execution_count": 0,
   "metadata": {
    "application/vnd.databricks.v1+cell": {
     "cellMetadata": {
      "byteLimit": 2048000,
      "rowLimit": 10000
     },
     "inputWidgets": {},
     "nuid": "b4648b85-402a-45f0-a329-2f828c8de7d7",
     "showTitle": false,
     "tableResultSettingsMap": {},
     "title": ""
    }
   },
   "outputs": [
    {
     "output_type": "stream",
     "name": "stdout",
     "output_type": "stream",
     "text": [
      "Out[12]: DataFrame[]"
     ]
    }
   ],
   "source": [
    "spark.sql(\"DROP TABLE IF EXISTS sales_raw\")"
   ]
  },
  {
   "cell_type": "code",
   "execution_count": 0,
   "metadata": {
    "application/vnd.databricks.v1+cell": {
     "cellMetadata": {
      "byteLimit": 2048000,
      "rowLimit": 10000
     },
     "inputWidgets": {},
     "nuid": "7b0fddfd-4a85-4fd4-bbd7-70d9d1abec50",
     "showTitle": false,
     "tableResultSettingsMap": {},
     "title": ""
    }
   },
   "outputs": [
    {
     "output_type": "stream",
     "name": "stdout",
     "output_type": "stream",
     "text": [
      "Out[13]: DataFrame[]"
     ]
    }
   ],
   "source": [
    "spark.sql(\"\"\"\n",
    "          CREATE TABLE IF NOT EXISTS sales_raw (\n",
    "              OrderId STRING,\n",
    "              Product STRING,\n",
    "              QuantityOrdered STRING,\n",
    "              PriceEach STRING,\n",
    "              OrderDate STRING,\n",
    "              PurchaseAddress STRING\n",
    "          )\n",
    "          \"\"\")"
   ]
  },
  {
   "cell_type": "markdown",
   "metadata": {
    "application/vnd.databricks.v1+cell": {
     "cellMetadata": {
      "byteLimit": 2048000,
      "rowLimit": 10000
     },
     "inputWidgets": {},
     "nuid": "010e099e-178d-4e66-9c89-0b7dc06e1b6d",
     "showTitle": false,
     "tableResultSettingsMap": {},
     "title": ""
    }
   },
   "source": [
    "## Load DataFrame to Database Table"
   ]
  },
  {
   "cell_type": "markdown",
   "metadata": {
    "application/vnd.databricks.v1+cell": {
     "cellMetadata": {
      "byteLimit": 2048000,
      "rowLimit": 10000
     },
     "inputWidgets": {},
     "nuid": "1444dfdf-24b6-4385-835c-38c5464ee490",
     "showTitle": false,
     "tableResultSettingsMap": {},
     "title": ""
    }
   },
   "source": [
    "### Create Temporary Table (`tmp_sales_raw`)"
   ]
  },
  {
   "cell_type": "code",
   "execution_count": 0,
   "metadata": {
    "application/vnd.databricks.v1+cell": {
     "cellMetadata": {
      "byteLimit": 2048000,
      "rowLimit": 10000
     },
     "inputWidgets": {},
     "nuid": "3338af8c-49c2-4b29-bf71-6ef008b4e7ce",
     "showTitle": false,
     "tableResultSettingsMap": {},
     "title": ""
    }
   },
   "outputs": [],
   "source": [
    "sales_data_df.createOrReplaceTempView(\"tmp_sales_raw\")"
   ]
  },
  {
   "cell_type": "code",
   "execution_count": 0,
   "metadata": {
    "application/vnd.databricks.v1+cell": {
     "cellMetadata": {
      "byteLimit": 2048000,
      "rowLimit": 10000
     },
     "inputWidgets": {},
     "nuid": "8e676329-0d8a-4ffb-831c-ecbf0038bc51",
     "showTitle": false,
     "tableResultSettingsMap": {},
     "title": ""
    }
   },
   "outputs": [
    {
     "output_type": "stream",
     "name": "stdout",
     "output_type": "stream",
     "text": [
      "+--------+--------------------------+----------------+----------+--------------+-----------------------------------------+\n|Order ID|Product                   |Quantity Ordered|Price Each|Order Date    |Purchase Address                         |\n+--------+--------------------------+----------------+----------+--------------+-----------------------------------------+\n|295665  |Macbook Pro Laptop        |1               |1700      |12/30/19 00:01|136 Church St, New York City, NY 10001   |\n|295666  |LG Washing Machine        |1               |600.0     |12/29/19 07:03|562 2nd St, New York City, NY 10001      |\n|295667  |USB-C Charging Cable      |1               |11.95     |12/12/19 18:21|277 Main St, New York City, NY 10001     |\n|295668  |27in FHD Monitor          |1               |149.99    |12/22/19 15:13|410 6th St, San Francisco, CA 94016      |\n|295669  |USB-C Charging Cable      |1               |11.95     |12/18/19 12:38|43 Hill St, Atlanta, GA 30301            |\n|295670  |AA Batteries (4-pack)     |1               |3.84      |12/31/19 22:58|200 Jefferson St, New York City, NY 10001|\n|295671  |USB-C Charging Cable      |1               |11.95     |12/16/19 15:10|928 12th St, Portland, OR 97035          |\n|295672  |USB-C Charging Cable      |2               |11.95     |12/13/19 09:29|813 Hickory St, Dallas, TX 75001         |\n|295673  |Bose SoundSport Headphones|1               |99.99     |12/15/19 23:26|718 Wilson St, Dallas, TX 75001          |\n|295674  |AAA Batteries (4-pack)    |4               |2.99      |12/28/19 11:51|77 7th St, Dallas, TX 75001              |\n+--------+--------------------------+----------------+----------+--------------+-----------------------------------------+\nonly showing top 10 rows\n\n"
     ]
    }
   ],
   "source": [
    "spark.sql(\"SELECT * FROM tmp_sales_raw\").show(10, truncate=False)"
   ]
  },
  {
   "cell_type": "code",
   "execution_count": 0,
   "metadata": {
    "application/vnd.databricks.v1+cell": {
     "cellMetadata": {
      "byteLimit": 2048000,
      "rowLimit": 10000
     },
     "inputWidgets": {},
     "nuid": "615e594d-74e5-41bc-b932-74f1483830a5",
     "showTitle": false,
     "tableResultSettingsMap": {},
     "title": ""
    }
   },
   "outputs": [
    {
     "output_type": "stream",
     "name": "stdout",
     "output_type": "stream",
     "text": [
      "+----------------+---------+-------+\n|        col_name|data_type|comment|\n+----------------+---------+-------+\n|        Order ID|   string|   null|\n|         Product|   string|   null|\n|Quantity Ordered|   string|   null|\n|      Price Each|   string|   null|\n|      Order Date|   string|   null|\n|Purchase Address|   string|   null|\n+----------------+---------+-------+\n\n"
     ]
    }
   ],
   "source": [
    "spark.sql(\"DESCRIBE tmp_sales_raw\").show()"
   ]
  },
  {
   "cell_type": "markdown",
   "metadata": {
    "application/vnd.databricks.v1+cell": {
     "cellMetadata": {
      "byteLimit": 2048000,
      "rowLimit": 10000
     },
     "inputWidgets": {},
     "nuid": "2dcb01c3-b328-4f0e-a2b3-7cc28c6eb506",
     "showTitle": false,
     "tableResultSettingsMap": {},
     "title": ""
    }
   },
   "source": [
    "### Insert `tmp_sales_raw` Data Into `sales_raw`"
   ]
  },
  {
   "cell_type": "code",
   "execution_count": 0,
   "metadata": {
    "application/vnd.databricks.v1+cell": {
     "cellMetadata": {
      "byteLimit": 2048000,
      "rowLimit": 10000
     },
     "inputWidgets": {},
     "nuid": "d9fdb970-735c-46ba-9705-a01dfe9bc03b",
     "showTitle": false,
     "tableResultSettingsMap": {},
     "title": ""
    }
   },
   "outputs": [
    {
     "output_type": "stream",
     "name": "stdout",
     "output_type": "stream",
     "text": [
      "Out[17]: DataFrame[num_affected_rows: bigint, num_inserted_rows: bigint]"
     ]
    }
   ],
   "source": [
    "spark.sql(\"\"\"\n",
    "            INSERT OVERWRITE sales_db.sales_raw\n",
    "            SELECT `Order ID`,\n",
    "                   `Product`,\n",
    "                   `Quantity Ordered`,\n",
    "                   `Price Each`,\n",
    "                   `Order Date`,\n",
    "                   `Purchase Address`\n",
    "            FROM tmp_sales_raw\n",
    "          \"\"\")"
   ]
  },
  {
   "cell_type": "code",
   "execution_count": 0,
   "metadata": {
    "application/vnd.databricks.v1+cell": {
     "cellMetadata": {
      "byteLimit": 2048000,
      "rowLimit": 10000
     },
     "inputWidgets": {},
     "nuid": "937c4c08-c95d-4c69-85e6-dc4a7d227cc9",
     "showTitle": false,
     "tableResultSettingsMap": {},
     "title": ""
    }
   },
   "outputs": [
    {
     "output_type": "stream",
     "name": "stdout",
     "output_type": "stream",
     "text": [
      "+-------+--------------------+---------------+---------+--------------+--------------------+\n|OrderId|             Product|QuantityOrdered|PriceEach|     OrderDate|     PurchaseAddress|\n+-------+--------------------+---------------+---------+--------------+--------------------+\n| 295665|  Macbook Pro Laptop|              1|     1700|12/30/19 00:01|136 Church St, Ne...|\n| 295666|  LG Washing Machine|              1|    600.0|12/29/19 07:03|562 2nd St, New Y...|\n| 295667|USB-C Charging Cable|              1|    11.95|12/12/19 18:21|277 Main St, New ...|\n| 295668|    27in FHD Monitor|              1|   149.99|12/22/19 15:13|410 6th St, San F...|\n| 295669|USB-C Charging Cable|              1|    11.95|12/18/19 12:38|43 Hill St, Atlan...|\n| 295670|AA Batteries (4-p...|              1|     3.84|12/31/19 22:58|200 Jefferson St,...|\n| 295671|USB-C Charging Cable|              1|    11.95|12/16/19 15:10|928 12th St, Port...|\n| 295672|USB-C Charging Cable|              2|    11.95|12/13/19 09:29|813 Hickory St, D...|\n| 295673|Bose SoundSport H...|              1|    99.99|12/15/19 23:26|718 Wilson St, Da...|\n| 295674|AAA Batteries (4-...|              4|     2.99|12/28/19 11:51|77 7th St, Dallas...|\n+-------+--------------------+---------------+---------+--------------+--------------------+\nonly showing top 10 rows\n\n"
     ]
    }
   ],
   "source": [
    "spark.sql(\"SELECT * FROM sales_raw\").show(10)"
   ]
  },
  {
   "cell_type": "code",
   "execution_count": 0,
   "metadata": {
    "application/vnd.databricks.v1+cell": {
     "cellMetadata": {
      "byteLimit": 2048000,
      "rowLimit": 10000
     },
     "inputWidgets": {},
     "nuid": "1a5c5e27-9548-45a6-99b6-41761280a46a",
     "showTitle": false,
     "tableResultSettingsMap": {},
     "title": ""
    }
   },
   "outputs": [
    {
     "output_type": "stream",
     "name": "stdout",
     "output_type": "stream",
     "text": [
      "+--------+\n|count(1)|\n+--------+\n|  186850|\n+--------+\n\n"
     ]
    }
   ],
   "source": [
    "spark.sql(\"SELECT count(*) FROM sales_db.sales_raw\").show()"
   ]
  },
  {
   "cell_type": "markdown",
   "metadata": {
    "application/vnd.databricks.v1+cell": {
     "cellMetadata": {
      "byteLimit": 2048000,
      "rowLimit": 10000
     },
     "inputWidgets": {},
     "nuid": "4fef21ab-855a-4dac-8a72-6469aeb5117e",
     "showTitle": false,
     "tableResultSettingsMap": {},
     "title": ""
    }
   },
   "source": [
    "## Data Transformation"
   ]
  },
  {
   "cell_type": "markdown",
   "metadata": {
    "application/vnd.databricks.v1+cell": {
     "cellMetadata": {
      "byteLimit": 2048000,
      "rowLimit": 10000
     },
     "inputWidgets": {},
     "nuid": "3422ef97-8292-47c9-a31e-46b7323d7780",
     "showTitle": false,
     "tableResultSettingsMap": {},
     "title": ""
    }
   },
   "source": [
    "### Update Data Types and Add New Columns"
   ]
  },
  {
   "cell_type": "code",
   "execution_count": 0,
   "metadata": {
    "application/vnd.databricks.v1+cell": {
     "cellMetadata": {
      "byteLimit": 2048000,
      "rowLimit": 10000
     },
     "inputWidgets": {},
     "nuid": "48d44cc3-6026-4f53-a7f7-ede5c82a4477",
     "showTitle": false,
     "tableResultSettingsMap": {},
     "title": ""
    }
   },
   "outputs": [],
   "source": [
    "tmp_sales_df = spark.sql(\"\"\"\n",
    "                         \n",
    "SELECT \n",
    "  cast(OrderId AS INT) AS OrderID,\n",
    "  Product,\n",
    "  QuantityOrdered,\n",
    "  cast(PriceEach AS DECIMAL(10,2)) AS PriceEach,\n",
    "  to_timestamp(OrderDate, 'MM/dd/yy HH:mm') AS OrderDate,\n",
    "  PurchaseAddress,\n",
    "  trim(split(PurchaseAddress, \",\")[1]) AS City, -- new column\n",
    "  trim(substring(split(PurchaseAddress, \",\")[2], 1, 3)) AS State, -- new column\n",
    "  year(to_timestamp(OrderDate, 'MM/dd/yy HH:mm')) AS ReportYear, -- new column\n",
    "  month(to_timestamp(OrderDate, 'MM/dd/yy HH:mm')) AS ReportMonth -- new column\n",
    "FROM sales_raw\n",
    "WHERE OrderID != \"Order ID\" \n",
    "  AND OrderID IS NOT NULL; -- ignoring bad records\n",
    "\n",
    "\"\"\")"
   ]
  },
  {
   "cell_type": "markdown",
   "metadata": {
    "application/vnd.databricks.v1+cell": {
     "cellMetadata": {
      "byteLimit": 2048000,
      "rowLimit": 10000
     },
     "inputWidgets": {},
     "nuid": "ed704944-b3e6-498f-ba8f-631adc877778",
     "showTitle": false,
     "tableResultSettingsMap": {},
     "title": ""
    }
   },
   "source": [
    "### Create Temporary Table (`tmp_sales`)"
   ]
  },
  {
   "cell_type": "code",
   "execution_count": 0,
   "metadata": {
    "application/vnd.databricks.v1+cell": {
     "cellMetadata": {
      "byteLimit": 2048000,
      "rowLimit": 10000
     },
     "inputWidgets": {},
     "nuid": "319361be-d9b5-4d41-bb7e-9ec762902a9b",
     "showTitle": false,
     "tableResultSettingsMap": {},
     "title": ""
    }
   },
   "outputs": [],
   "source": [
    "tmp_sales_df.createOrReplaceTempView(\"tmp_sales\")"
   ]
  },
  {
   "cell_type": "code",
   "execution_count": 0,
   "metadata": {
    "application/vnd.databricks.v1+cell": {
     "cellMetadata": {
      "byteLimit": 2048000,
      "rowLimit": 10000
     },
     "inputWidgets": {},
     "nuid": "32145a8e-a2cb-498b-8c78-6121df70553f",
     "showTitle": false,
     "tableResultSettingsMap": {},
     "title": ""
    }
   },
   "outputs": [
    {
     "output_type": "stream",
     "name": "stdout",
     "output_type": "stream",
     "text": [
      "+---------------+-------------+-------+\n|       col_name|    data_type|comment|\n+---------------+-------------+-------+\n|        OrderID|          int|   null|\n|        Product|       string|   null|\n|QuantityOrdered|       string|   null|\n|      PriceEach|decimal(10,2)|   null|\n|      OrderDate|    timestamp|   null|\n|PurchaseAddress|       string|   null|\n|           City|       string|   null|\n|          State|       string|   null|\n|     ReportYear|          int|   null|\n|    ReportMonth|          int|   null|\n+---------------+-------------+-------+\n\n"
     ]
    }
   ],
   "source": [
    "spark.sql(\"DESCRIBE tmp_sales\").show()"
   ]
  },
  {
   "cell_type": "markdown",
   "metadata": {
    "application/vnd.databricks.v1+cell": {
     "cellMetadata": {
      "byteLimit": 2048000,
      "rowLimit": 10000
     },
     "inputWidgets": {},
     "nuid": "3f2ec701-3d76-4be2-9afc-be8800f26e4d",
     "showTitle": false,
     "tableResultSettingsMap": {},
     "title": ""
    }
   },
   "source": [
    "## Create Final Table (`sales`)"
   ]
  },
  {
   "cell_type": "code",
   "execution_count": 0,
   "metadata": {
    "application/vnd.databricks.v1+cell": {
     "cellMetadata": {
      "byteLimit": 2048000,
      "implicitDf": true,
      "rowLimit": 10000
     },
     "inputWidgets": {},
     "nuid": "6d27ef28-30b0-4d53-a527-18964a29a81c",
     "showTitle": false,
     "tableResultSettingsMap": {},
     "title": ""
    }
   },
   "outputs": [
    {
     "output_type": "stream",
     "name": "stdout",
     "output_type": "stream",
     "text": [
      "Out[23]: DataFrame[]"
     ]
    }
   ],
   "source": [
    "spark.sql(\"DROP TABLE IF EXISTS sales_db.sales;\")"
   ]
  },
  {
   "cell_type": "markdown",
   "metadata": {
    "application/vnd.databricks.v1+cell": {
     "cellMetadata": {
      "byteLimit": 2048000,
      "rowLimit": 10000
     },
     "inputWidgets": {},
     "nuid": "bff09db7-60ce-4ce4-b4eb-e8979c63169e",
     "showTitle": false,
     "tableResultSettingsMap": {},
     "title": ""
    }
   },
   "source": [
    "### Assign Parquet, Partition, Compression, and Location Options"
   ]
  },
  {
   "cell_type": "code",
   "execution_count": 0,
   "metadata": {
    "application/vnd.databricks.v1+cell": {
     "cellMetadata": {
      "byteLimit": 2048000,
      "rowLimit": 10000
     },
     "inputWidgets": {},
     "nuid": "3d30fc76-0f05-4fd8-bea9-cc8fbc552b9d",
     "showTitle": false,
     "tableResultSettingsMap": {},
     "title": ""
    }
   },
   "outputs": [
    {
     "output_type": "stream",
     "name": "stdout",
     "output_type": "stream",
     "text": [
      "Out[24]: DataFrame[]"
     ]
    }
   ],
   "source": [
    "spark.sql(\"\"\"\n",
    "\n",
    "CREATE TABLE sales (\n",
    "    OrderId INT,\n",
    "    Product STRING,\n",
    "    Quantity INT,\n",
    "    Price DECIMAL(10, 2),\n",
    "    OrderDate TIMESTAMP,\n",
    "    PurchaseAddress STRING,\n",
    "    City STRING,\n",
    "    State STRING,\n",
    "    ReportYear INT,\n",
    "    ReportMonth INT\n",
    ")\n",
    "USING PARQUET \n",
    "PARTITIONED BY (ReportYear, ReportMonth)\n",
    "OPTIONS('compression' = 'snappy')\n",
    "LOCATION 'dbfs:/FileStore/salesdata/published';\n",
    "\n",
    "\"\"\")"
   ]
  },
  {
   "cell_type": "code",
   "execution_count": 0,
   "metadata": {
    "application/vnd.databricks.v1+cell": {
     "cellMetadata": {
      "byteLimit": 2048000,
      "rowLimit": 10000
     },
     "inputWidgets": {},
     "nuid": "b98205e7-1c19-44b0-8c31-d89637817246",
     "showTitle": false,
     "tableResultSettingsMap": {},
     "title": ""
    }
   },
   "outputs": [
    {
     "output_type": "stream",
     "name": "stdout",
     "output_type": "stream",
     "text": [
      "+--------------------+-------------+-------+\n|            col_name|    data_type|comment|\n+--------------------+-------------+-------+\n|             OrderId|          int|   null|\n|             Product|       string|   null|\n|            Quantity|          int|   null|\n|               Price|decimal(10,2)|   null|\n|           OrderDate|    timestamp|   null|\n|     PurchaseAddress|       string|   null|\n|                City|       string|   null|\n|               State|       string|   null|\n|          ReportYear|          int|   null|\n|         ReportMonth|          int|   null|\n|# Partition Infor...|             |       |\n|          # col_name|    data_type|comment|\n|          ReportYear|          int|   null|\n|         ReportMonth|          int|   null|\n+--------------------+-------------+-------+\n\n"
     ]
    }
   ],
   "source": [
    "spark.sql(\"DESCRIBE sales\").show()"
   ]
  },
  {
   "cell_type": "markdown",
   "metadata": {
    "application/vnd.databricks.v1+cell": {
     "cellMetadata": {
      "byteLimit": 2048000,
      "rowLimit": 10000
     },
     "inputWidgets": {},
     "nuid": "7f72858d-5f76-435d-b069-2b475b2b2e8f",
     "showTitle": false,
     "tableResultSettingsMap": {},
     "title": ""
    }
   },
   "source": [
    "### Insert `tmp_sales` Data Into `sales`"
   ]
  },
  {
   "cell_type": "code",
   "execution_count": 0,
   "metadata": {
    "application/vnd.databricks.v1+cell": {
     "cellMetadata": {
      "byteLimit": 2048000,
      "rowLimit": 10000
     },
     "inputWidgets": {},
     "nuid": "2043c6ee-238e-4594-a0ca-41fbc41565dc",
     "showTitle": false,
     "tableResultSettingsMap": {},
     "title": ""
    }
   },
   "outputs": [
    {
     "output_type": "stream",
     "name": "stdout",
     "output_type": "stream",
     "text": [
      "Out[26]: DataFrame[]"
     ]
    }
   ],
   "source": [
    "spark.sql(\"\"\"\n",
    "\n",
    "INSERT INTO sales\n",
    "    SELECT \n",
    "        OrderID,\n",
    "        Product,\n",
    "        cast(QuantityOrdered AS INT) AS Quantity,\n",
    "        cast(PriceEach AS DECIMAL(10, 2)) AS Price,\n",
    "        OrderDate,\n",
    "        PurchaseAddress,\n",
    "        City,\n",
    "        State,\n",
    "        ReportYear,\n",
    "        ReportMonth\n",
    "    FROM tmp_sales;\n",
    "\n",
    "\"\"\")"
   ]
  },
  {
   "cell_type": "code",
   "execution_count": 0,
   "metadata": {
    "application/vnd.databricks.v1+cell": {
     "cellMetadata": {
      "byteLimit": 2048000,
      "implicitDf": true,
      "rowLimit": 10000
     },
     "inputWidgets": {},
     "nuid": "b6429439-7d27-4e16-b4f2-693f64077d6d",
     "showTitle": false,
     "tableResultSettingsMap": {},
     "title": ""
    }
   },
   "outputs": [
    {
     "output_type": "stream",
     "name": "stdout",
     "output_type": "stream",
     "text": [
      "+-------+--------------------+--------+------+-------------------+--------------------+-------------+-----+----------+-----------+\n|OrderId|             Product|Quantity| Price|          OrderDate|     PurchaseAddress|         City|State|ReportYear|ReportMonth|\n+-------+--------------------+--------+------+-------------------+--------------------+-------------+-----+----------+-----------+\n| 141234|              iPhone|       1|700.00|2019-01-22 21:25:00|944 Walnut St, Bo...|       Boston|   MA|      2019|          1|\n| 141235|Lightning Chargin...|       1| 14.95|2019-01-28 14:15:00|185 Maple St, Por...|     Portland|   OR|      2019|          1|\n| 141236|    Wired Headphones|       2| 11.99|2019-01-17 13:33:00|538 Adams St, San...|San Francisco|   CA|      2019|          1|\n| 141237|    27in FHD Monitor|       1|149.99|2019-01-05 20:33:00|738 10th St, Los ...|  Los Angeles|   CA|      2019|          1|\n| 141238|    Wired Headphones|       1| 11.99|2019-01-25 11:59:00|387 10th St, Aust...|       Austin|   TX|      2019|          1|\n| 141239|AAA Batteries (4-...|       1|  2.99|2019-01-29 20:22:00|775 Willow St, Sa...|San Francisco|   CA|      2019|          1|\n| 141240|27in 4K Gaming Mo...|       1|389.99|2019-01-26 12:16:00|979 Park St, Los ...|  Los Angeles|   CA|      2019|          1|\n| 141241|USB-C Charging Cable|       1| 11.95|2019-01-05 12:04:00|181 6th St, San F...|San Francisco|   CA|      2019|          1|\n| 141242|Bose SoundSport H...|       1| 99.99|2019-01-01 10:30:00|867 Willow St, Lo...|  Los Angeles|   CA|      2019|          1|\n| 141243|Apple Airpods Hea...|       1|150.00|2019-01-22 21:20:00|657 Johnson St, S...|San Francisco|   CA|      2019|          1|\n+-------+--------------------+--------+------+-------------------+--------------------+-------------+-----+----------+-----------+\n\n"
     ]
    }
   ],
   "source": [
    "spark.sql(\n",
    "\"\"\"\n",
    "\n",
    "SELECT *\n",
    "    FROM sales\n",
    "    LIMIT 10;\n",
    "\n",
    "\"\"\").show()"
   ]
  }
 ],
 "metadata": {
  "application/vnd.databricks.v1+notebook": {
   "computePreferences": null,
   "dashboards": [],
   "environmentMetadata": {
    "base_environment": "",
    "client": "1"
   },
   "language": "python",
   "notebookMetadata": {
    "mostRecentlyExecutedCommandWithImplicitDF": {
     "commandId": -1,
     "dataframes": [
      "_sqldf"
     ]
    },
    "pythonIndentUnit": 4
   },
   "notebookName": "Retail-Sales-Data-Preparation",
   "widgets": {}
  }
 },
 "nbformat": 4,
 "nbformat_minor": 0
}
